{
 "cells": [
  {
   "cell_type": "markdown",
   "metadata": {},
   "source": [
    "## 数据读取 - 视频\n",
    "- cv2.VideoCapture可以捕捉摄像头，用数字来控制不同的设备，例如0，1\n",
    "- 如果是视频文件，则需要指定好路径即可"
   ]
  },
  {
   "cell_type": "code",
   "execution_count": 1,
   "metadata": {},
   "outputs": [],
   "source": [
    "import cv2 as cv\n",
    "import numpy as np"
   ]
  },
  {
   "cell_type": "code",
   "execution_count": 5,
   "metadata": {},
   "outputs": [
    {
     "name": "stdout",
     "output_type": "stream",
     "text": [
      "8.021907216494846\n",
      "540 960\n"
     ]
    }
   ],
   "source": [
    "# 从视频文件中读取数据\n",
    "cap = cv.VideoCapture('./videos/christmas.mp4')\n",
    "# 视频每秒传输帧数\n",
    "fps = cap.get(cv.CAP_PROP_FPS)\n",
    "# 宽度和长度\n",
    "frame_width = int(cap.get(cv.CAP_PROP_FRAME_WIDTH))\n",
    "frame_height = int(cap.get(cv.CAP_PROP_FRAME_HEIGHT))\n",
    "\n",
    "print(fps)\n",
    "print(frame_width, frame_height)"
   ]
  },
  {
   "cell_type": "code",
   "execution_count": 6,
   "metadata": {},
   "outputs": [],
   "source": [
    "while(True):\n",
    "    ret, frame = cap.read() \n",
    "    if ret != True:\n",
    "        break\n",
    "        \n",
    "    cv.imshow('frame', frame)\n",
    "    if cv.waitKey(25) & 0xff == ord('q'): \n",
    "        break\n",
    "\n",
    "cap.release()\n",
    "cv.destroyAllWindows()"
   ]
  },
  {
   "cell_type": "code",
   "execution_count": 7,
   "metadata": {},
   "outputs": [],
   "source": [
    "# 从摄像头获取图像数据\n",
    "cap = cv.VideoCapture(0)\n",
    "\n",
    "while(True):\n",
    "    ret, frame = cap.read() # ret 读取成功或者失败True or False， Frame图像内容\n",
    "    gray = cv.cvtColor(frame, cv.COLOR_BGR2GRAY)\n",
    "    cv.imshow('frame', gray)\n",
    "    # waitKey ms, 返回值为当前键盘所按值，ord返回对应的ascii数值\n",
    "    if cv.waitKey(1) & 0xff == ord('q'): \n",
    "        break\n",
    "\n",
    "cap.release()\n",
    "cv.destroyAllWindows()"
   ]
  },
  {
   "cell_type": "markdown",
   "metadata": {},
   "source": [
    "## 视频写入"
   ]
  },
  {
   "cell_type": "code",
   "execution_count": 8,
   "metadata": {},
   "outputs": [
    {
     "name": "stdout",
     "output_type": "stream",
     "text": [
      "8.021907216494846\n",
      "540 960\n"
     ]
    }
   ],
   "source": [
    "cap = cv.VideoCapture('./videos/christmas.mp4')\n",
    "fps = cap.get(cv.CAP_PROP_FPS)\n",
    "frame_width = int(cap.get(cv.CAP_PROP_FRAME_WIDTH))\n",
    "frame_height = int(cap.get(cv.CAP_PROP_FRAME_HEIGHT))\n",
    "\n",
    "print(fps)\n",
    "print(frame_width, frame_height)"
   ]
  },
  {
   "cell_type": "code",
   "execution_count": 9,
   "metadata": {},
   "outputs": [],
   "source": [
    "fourcc = cv.VideoWriter_fourcc(*'XVID')\n",
    "out = cv.VideoWriter('./videos/output.avi', fourcc, fps, (frame_width, frame_height))\n",
    "\n",
    "while(True):\n",
    "    ret, frame = cap.read()\n",
    "    if ret == True:\n",
    "        # 水平翻转\n",
    "        frame = cv.flip(frame, 1)\n",
    "        out.write(frame)\n",
    "        cv.imshow('frame', frame)\n",
    "        if cv.waitKey(25) & 0xff == ord('q'):\n",
    "            break\n",
    "    else:\n",
    "        break\n",
    "\n",
    "out.release()\n",
    "cap.release()\n",
    "cv.destroyAllWindows()"
   ]
  },
  {
   "cell_type": "code",
   "execution_count": null,
   "metadata": {},
   "outputs": [],
   "source": []
  }
 ],
 "metadata": {
  "kernelspec": {
   "display_name": "Python 3",
   "language": "python",
   "name": "python3"
  },
  "language_info": {
   "codemirror_mode": {
    "name": "ipython",
    "version": 3
   },
   "file_extension": ".py",
   "mimetype": "text/x-python",
   "name": "python",
   "nbconvert_exporter": "python",
   "pygments_lexer": "ipython3",
   "version": "3.8.5"
  }
 },
 "nbformat": 4,
 "nbformat_minor": 4
}
