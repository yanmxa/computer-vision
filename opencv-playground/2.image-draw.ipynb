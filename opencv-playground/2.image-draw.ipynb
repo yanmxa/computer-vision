{
 "cells": [
  {
   "cell_type": "markdown",
   "metadata": {},
   "source": [
    "# 使用OpenCV绘图函数\n",
    "1. 使用OpenCV绘制不同几何图形\n",
    "2. 函数cv.line(), cv.circle(), cv.rectangle(), cv.ellipse(), cv.putText()等\n",
    "3. 使用OpenCV画OpenCV的logo"
   ]
  },
  {
   "cell_type": "markdown",
   "metadata": {},
   "source": [
    "## 1.画线"
   ]
  },
  {
   "cell_type": "code",
   "execution_count": 1,
   "metadata": {},
   "outputs": [],
   "source": [
    "%matplotlib inline\n",
    "import numpy as np\n",
    "import cv2 as cv\n",
    "import matplotlib.pyplot as plt"
   ]
  },
  {
   "cell_type": "code",
   "execution_count": 3,
   "metadata": {},
   "outputs": [
    {
     "data": {
      "text/plain": [
       "array([[[255,   0,   0],\n",
       "        [255,   0,   0],\n",
       "        [255,   0,   0],\n",
       "        ...,\n",
       "        [  0,   0,   0],\n",
       "        [  0,   0,   0],\n",
       "        [  0,   0,   0]],\n",
       "\n",
       "       [[255,   0,   0],\n",
       "        [255,   0,   0],\n",
       "        [255,   0,   0],\n",
       "        ...,\n",
       "        [  0,   0,   0],\n",
       "        [  0,   0,   0],\n",
       "        [  0,   0,   0]],\n",
       "\n",
       "       [[255,   0,   0],\n",
       "        [255,   0,   0],\n",
       "        [255,   0,   0],\n",
       "        ...,\n",
       "        [  0,   0,   0],\n",
       "        [  0,   0,   0],\n",
       "        [  0,   0,   0]],\n",
       "\n",
       "       ...,\n",
       "\n",
       "       [[  0,   0,   0],\n",
       "        [  0,   0,   0],\n",
       "        [  0,   0,   0],\n",
       "        ...,\n",
       "        [255,   0,   0],\n",
       "        [255,   0,   0],\n",
       "        [255,   0,   0]],\n",
       "\n",
       "       [[  0,   0,   0],\n",
       "        [  0,   0,   0],\n",
       "        [  0,   0,   0],\n",
       "        ...,\n",
       "        [255,   0,   0],\n",
       "        [255,   0,   0],\n",
       "        [255,   0,   0]],\n",
       "\n",
       "       [[  0,   0,   0],\n",
       "        [  0,   0,   0],\n",
       "        [  0,   0,   0],\n",
       "        ...,\n",
       "        [255,   0,   0],\n",
       "        [255,   0,   0],\n",
       "        [255,   0,   0]]], dtype=uint8)"
      ]
     },
     "execution_count": 3,
     "metadata": {},
     "output_type": "execute_result"
    }
   ],
   "source": [
    "img = np.zeros((512, 512, 3), np.uint8) #  生成一张黑色的图片\n",
    "cv.line(img, (0, 0), (511, 511), (255, 0, 0), 5) # 5表示线段的宽度"
   ]
  },
  {
   "cell_type": "code",
   "execution_count": 4,
   "metadata": {},
   "outputs": [
    {
     "data": {
      "image/png": "[encoded data removed]",
      "text/plain": [
       "<Figure size 432x288 with 1 Axes>"
      ]
     },
     "metadata": {
      "needs_background": "light"
     },
     "output_type": "display_data"
    }
   ],
   "source": [
    "# 使用matplotlib显示图片\n",
    "imgRGB = cv.cvtColor(img, cv.COLOR_BGR2RGB)\n",
    "plt.imshow(imgRGB)\n",
    "plt.show()"
   ]
  },
  {
   "cell_type": "markdown",
   "metadata": {},
   "source": [
    "## 2.方形\n",
    "- 确定左上角和右下角坐标"
   ]
  },
  {
   "cell_type": "code",
   "execution_count": 7,
   "metadata": {},
   "outputs": [
    {
     "data": {
      "image/png": "[encoded data removed]",
      "text/plain": [
       "<Figure size 432x288 with 1 Axes>"
      ]
     },
     "metadata": {
      "needs_background": "light"
     },
     "output_type": "display_data"
    }
   ],
   "source": [
    "cv.rectangle(img, (300, 300), (400, 400), (0, 255, 0), 3)\n",
    "imageRGB = cv.cvtColor(img, cv.COLOR_BGR2RGB)\n",
    "plt.imshow(imageRGB)\n",
    "plt.show()"
   ]
  },
  {
   "cell_type": "markdown",
   "metadata": {},
   "source": [
    "## 3. 圆形\n",
    "- 确定圆形和半径"
   ]
  },
  {
   "cell_type": "code",
   "execution_count": 9,
   "metadata": {},
   "outputs": [
    {
     "data": {
      "image/png": "[encoded data removed]",
      "text/plain": [
       "<Figure size 432x288 with 1 Axes>"
      ]
     },
     "metadata": {
      "needs_background": "light"
     },
     "output_type": "display_data"
    }
   ],
   "source": [
    "img = np.zeros((512, 512, 3), np.uint8)\n",
    "cv.circle(img, (300, 300), 63, (100, 100, 255), 10)\n",
    "imageRGB = cv.cvtColor(img, cv.COLOR_BGR2RGB)\n",
    "plt.imshow(imageRGB)\n",
    "plt.show()"
   ]
  },
  {
   "cell_type": "markdown",
   "metadata": {},
   "source": [
    "4. 画椭圆\n",
    "cv.ellipse(img, center, axes, angle, startAngle, endAngle, color)\n",
    "- img: 宿主图片\n",
    "- center: 中心位置\n",
    "- axes: 长轴和短轴的长度\n",
    "- angle: 沿着顺时针旋转的角度\n",
    "- startAngle, endAngle：椭圆沿着顺时针方向的其实角度和结束角度，如果是0， 360， 就是震哥椭圆在推按中建绘制半个椭圆"
   ]
  },
  {
   "cell_type": "code",
   "execution_count": 32,
   "metadata": {},
   "outputs": [
    {
     "data": {
      "image/png": "[encoded data removed]",
      "text/plain": [
       "<Figure size 432x288 with 1 Axes>"
      ]
     },
     "metadata": {
      "needs_background": "light"
     },
     "output_type": "display_data"
    }
   ],
   "source": [
    "img = np.zeros((512, 512, 3), np.uint8)\n",
    "# cv.ellipse(img, (256, 256), (100, 50), 0, 0, 270, 255, -1) # 255默认蓝色\n",
    "\n",
    "#cv.ellipse(img, (256, 256), (100, 50), 0, 0, 180, (200, 200, 200), -1) \n",
    "\n",
    "cv.circle(img, (256, 256), 10, (0,200,255), -1)\n",
    "\n",
    "# (100, 80)为长轴和短轴\n",
    "cv.ellipse(img, (256, 256), (100, 80), 0, 0, 180, (200, 200, 200), -1) \n",
    "\n",
    "\n",
    "# cv.ellipse(img, (256, 256), (50, 25), 30, 0, 180, (0, 200, 200), -1) \n",
    "# cv.ellipse(img, (256, 256), (100, 80), 0, 60, 180, (0, 0, 200), -1) \n",
    "# cv.ellipse(img, (256, 256), (100, 80), 0, 60, 270, (0, 0, 200), -1) \n",
    "\n",
    "# -1 表示粗细，表示全填充\n",
    "cv.ellipse(img, (256, 256), (100, 80), 0, 60, 270, (0, 0, 200), 8) \n",
    "\n",
    "\n",
    "imageRGB = cv.cvtColor(img, cv.COLOR_BGR2RGB)\n",
    "plt.imshow(imageRGB)\n",
    "plt.show()"
   ]
  },
  {
   "cell_type": "markdown",
   "metadata": {},
   "source": [
    "## 4. 画多边形\n",
    "- 要绘制多边形，首先确定顶点的坐标\n",
    "- 将这些点组成一个rows * 1 * 2的数组，rows为顶点的数量，类型必须为int32"
   ]
  },
  {
   "cell_type": "code",
   "execution_count": 36,
   "metadata": {},
   "outputs": [
    {
     "name": "stdout",
     "output_type": "stream",
     "text": [
      "(4, 2)\n",
      "(4, 1, 2)\n"
     ]
    },
    {
     "data": {
      "image/png": "[encoded data removed]",
      "text/plain": [
       "<Figure size 432x288 with 1 Axes>"
      ]
     },
     "metadata": {
      "needs_background": "light"
     },
     "output_type": "display_data"
    }
   ],
   "source": [
    "img = np.zeros((512, 512, 3), np.uint8)\n",
    "pts = np.array([[100, 100], [300, 150], [400, 400], [50, 350]], np.int32)\n",
    "print(np.shape(pts))\n",
    "pts = pts.reshape((-1, 1, 2))\n",
    "print(np.shape(pts))\n",
    "cv.polylines(img, [pts], True, (0, 255, 255), 10)\n",
    "# 这里的True为False的话，会生成一个折线而不是封闭的图形\n",
    "imageRGB = cv.cvtColor(img, cv.COLOR_BGR2RGB)\n",
    "plt.imshow(imageRGB)\n",
    "plt.show()"
   ]
  },
  {
   "cell_type": "markdown",
   "metadata": {},
   "source": [
    "## 5.图片上添加文字\n",
    "- 绘制的文字\n",
    "- 绘制的位置\n",
    "- 字体类型\n",
    "- 字体大小\n",
    "- 颜色，粗细，线条类型等属性"
   ]
  },
  {
   "cell_type": "code",
   "execution_count": 38,
   "metadata": {},
   "outputs": [
    {
     "data": {
      "image/png": "[encoded data removed]",
      "text/plain": [
       "<Figure size 432x288 with 1 Axes>"
      ]
     },
     "metadata": {
      "needs_background": "light"
     },
     "output_type": "display_data"
    }
   ],
   "source": [
    "img = np.zeros((512, 512, 3), np.uint8)\n",
    "font = cv.FONT_HERSHEY_SIMPLEX\n",
    "\n",
    "cv.putText(img, 'wangyi', (10, 300), font, 4, (255, 255, 255), 10)\n",
    "\n",
    "imageRGB = cv.cvtColor(img, cv.COLOR_BGR2RGB)\n",
    "plt.imshow(imageRGB)\n",
    "plt.show()"
   ]
  },
  {
   "cell_type": "code",
   "execution_count": null,
   "metadata": {},
   "outputs": [],
   "source": []
  }
 ],
 "metadata": {
  "kernelspec": {
   "display_name": "Python 3",
   "language": "python",
   "name": "python3"
  },
  "language_info": {
   "codemirror_mode": {
    "name": "ipython",
    "version": 3
   },
   "file_extension": ".py",
   "mimetype": "text/x-python",
   "name": "python",
   "nbconvert_exporter": "python",
   "pygments_lexer": "ipython3",
   "version": "3.8.5"
  }
 },
 "nbformat": 4,
 "nbformat_minor": 4
}
