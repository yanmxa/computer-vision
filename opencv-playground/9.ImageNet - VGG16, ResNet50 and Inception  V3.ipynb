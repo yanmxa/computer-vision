{
 "cells": [
  {
   "cell_type": "markdown",
   "metadata": {},
   "source": [
    "## Load Pre-Trained Model - ResNet50"
   ]
  },
  {
   "cell_type": "code",
   "execution_count": 1,
   "metadata": {},
   "outputs": [],
   "source": [
    "from tensorflow.keras.applications.resnet50 import ResNet50\n",
    "from tensorflow.keras.preprocessing import image\n",
    "from tensorflow.keras.applications.resnet50 import preprocess_input, decode_predictions\n",
    "import numpy as np\n",
    "\n",
    "resnet_model = ResNet50(weights = 'imagenet')"
   ]
  },
  {
   "cell_type": "markdown",
   "metadata": {},
   "source": [
    "## Test ResNet50 Model on One Sample Image"
   ]
  },
  {
   "cell_type": "code",
   "execution_count": 2,
   "metadata": {},
   "outputs": [
    {
     "name": "stdout",
     "output_type": "stream",
     "text": [
      "582 880\n"
     ]
    }
   ],
   "source": [
    "import cv2 as cv\n",
    "img_path = './images/tree.jpeg'\n",
    "img = cv.imread(img_path)\n",
    "w, h = img.shape[:2]\n",
    "print(w, h)\n",
    "cv.imshow(\"original\" ,img)\n",
    "cv.waitKey()\n",
    "cv.destroyAllWindows()"
   ]
  },
  {
   "cell_type": "code",
   "execution_count": 3,
   "metadata": {},
   "outputs": [
    {
     "name": "stdout",
     "output_type": "stream",
     "text": [
      "(582, 880, 3) (880, 3)\n",
      "(1, 582, 880, 3) (582, 880, 3)\n",
      "(1, 582, 880, 3) (582, 880, 3)\n",
      "WARNING:tensorflow:Model was constructed with shape (None, 224, 224, 3) for input Tensor(\"input_1:0\", shape=(None, 224, 224, 3), dtype=float32), but it was called on an input with incompatible shape (None, 582, 880, 3).\n",
      "Predicted [('n04417672', 'thatch', 0.14749575), ('n04326547', 'stone_wall', 0.03841557), ('n03743016', 'megalith', 0.033628836)]\n"
     ]
    }
   ],
   "source": [
    "img = image.load_img(img_path, target_size=(582, 880))\n",
    "x = image.img_to_array(img)\n",
    "print(x.shape, x[0].shape)\n",
    "x = np.expand_dims(x, axis=0)\n",
    "print(x.shape, x[0].shape)\n",
    "x = preprocess_input(x)\n",
    "print(x.shape, x[0].shape)\n",
    "\n",
    "preds = resnet_model.predict(x)\n",
    "# decode the results into a list of tuples(class, description, probability)\n",
    "print('Predicted', decode_predictions(preds, top=3)[0])"
   ]
  },
  {
   "cell_type": "markdown",
   "metadata": {},
   "source": [
    "## Let's try it on a few images and display the results over the image"
   ]
  },
  {
   "cell_type": "code",
   "execution_count": 10,
   "metadata": {},
   "outputs": [
    {
     "name": "stdout",
     "output_type": "stream",
     "text": [
      "horse.jpg\n",
      "elephant.jpg\n",
      "car.jpeg\n",
      "tiger.jpeg\n",
      "lion.jpeg\n",
      "dog.jpeg\n",
      "camels.jpg\n"
     ]
    }
   ],
   "source": [
    "from os import listdir\n",
    "from os.path import isfile, join\n",
    "\n",
    "\n",
    "# opencv function that display the image and it's predicted labels\n",
    "def draw_test(name, predictions, input_im):\n",
    "    BLACK = [0, 0, 0]\n",
    "    expanded_image = cv.copyMakeBorder(input_im, \n",
    "                                       300, 0, 0, imageL.shape[1] + 300, \n",
    "                                       cv.BORDER_CONSTANT, \n",
    "                                       value=BLACK)\n",
    "    img_width = input_im.shape[1]\n",
    "    for (i, prediction) in enumerate(predictions):\n",
    "        string = str(prediction[1]) + \" \" + str(prediction[2])\n",
    "        cv.putText(expanded_image, str(name), \n",
    "                   (img_width + 50, 50), cv.FONT_HERSHEY_COMPLEX_SMALL, \n",
    "                   2, (0, 0, 255), 1)\n",
    "        cv.putText(expanded_image, string, \n",
    "                   (img_width + 50, 50 + ((i + 1) * 50)), \n",
    "                   cv.FONT_HERSHEY_COMPLEX_SMALL, 2, \n",
    "                   (0, 255, 0), 1)\n",
    "    cv.imshow(name, expanded_image)\n",
    "    \n",
    "        \n",
    "# get images loacted in ./images\n",
    "mypath = \"./images/imagenet/\"\n",
    "file_names = [f for f in listdir(mypath) if isfile(join(mypath, f))]\n",
    "\n",
    "# loop through images run them through our classifer\n",
    "for file in file_names:\n",
    "    print(file)\n",
    "    from tensorflow.keras.preprocessing import image\n",
    "    img = image.load_img(mypath+file, target_size=(224, 224))\n",
    "    x = image.img_to_array(img)\n",
    "    x = np.expand_dims(x, axis=0)\n",
    "    x = preprocess_input(x)\n",
    "    \n",
    "    # load image using opencv\n",
    "    img2 = cv.imread(mypath + file)\n",
    "    imageL = cv.resize(img2, None, fx=.5, fy=.5, \n",
    "                       interpolation = cv.INTER_CUBIC)\n",
    "    \n",
    "    # get predictions\n",
    "    preds = resnet_model.predict(x)\n",
    "    predictions = decode_predictions(preds, top=3)[0]\n",
    "    draw_test(\"Predcitions\", predictions, imageL)\n",
    "    cv.waitKey(0)\n",
    "cv.destroyAllWindows()"
   ]
  },
  {
   "cell_type": "markdown",
   "metadata": {},
   "source": [
    "## Compare VGG16 and ResNet50"
   ]
  },
  {
   "cell_type": "code",
   "execution_count": 11,
   "metadata": {},
   "outputs": [
    {
     "name": "stdout",
     "output_type": "stream",
     "text": [
      "Downloading data from https://storage.googleapis.com/tensorflow/keras-applications/vgg16/vgg16_weights_tf_dim_ordering_tf_kernels.h5\n",
      "553467904/553467096 [==============================] - 165s 0us/step\n"
     ]
    }
   ],
   "source": [
    "import numpy as np\n",
    "from tensorflow.keras.applications import vgg16\n",
    "\n",
    "# load the VGG16 model\n",
    "vgg_model = vgg16.VGG16(weights='imagenet')"
   ]
  },
  {
   "cell_type": "code",
   "execution_count": null,
   "metadata": {},
   "outputs": [
    {
     "name": "stdout",
     "output_type": "stream",
     "text": [
      "horse.jpg\n",
      "elephant.jpg\n",
      "car.jpeg\n",
      "tiger.jpeg\n",
      "lion.jpeg\n",
      "dog.jpeg\n"
     ]
    }
   ],
   "source": [
    "# get images located in ./images folder\n",
    "mypath = \"./images/imagenet/\"\n",
    "file_names = [f for f in listdir(mypath) if isfile(join(mypath, f))]\n",
    "\n",
    "# loop through images run them through our classifier\n",
    "for file in file_names:\n",
    "    print(file)\n",
    "    from tensorflow.keras.preprocessing import image\n",
    "    img = image.load_img(mypath + file, target_size=(244, 224))\n",
    "    x = image.img_to_array(img)\n",
    "    x = np.expand_dims(x, axis=0)\n",
    "    x = preprocess_input(x)\n",
    "    \n",
    "    # load image using opencv\n",
    "    img2 = cv.imread(mypath + file)\n",
    "    imageL = cv.resize(img2, None, fx=.5, fy=.5, \n",
    "                       interpolation = cv.INTER_CUBIC)\n",
    "    \n",
    "    # get vgg16 predictions\n",
    "    preds_vgg_model = vgg_model.predict(x)\n",
    "    predictions_vgg = decode_predictions(preds_vgg_model, top=3)[0]\n",
    "    draw_test('VGG16 Predictions', predictions_vgg, imageL)\n",
    "    \n",
    "    # get ResNet50 predictions\n",
    "    preds_resnet = resnet_model.predict(x)\n",
    "    predictions_resnet = decode_predictions(preds_resnet, top=3)[0]\n",
    "    draw_test('ResNet50 Predictions', predictions_resnet, imageL)\n",
    "    \n",
    "    cv.waitKey(0)\n",
    "\n",
    "cv.destroyAllWindows()"
   ]
  },
  {
   "cell_type": "code",
   "execution_count": null,
   "metadata": {},
   "outputs": [],
   "source": []
  }
 ],
 "metadata": {
  "kernelspec": {
   "display_name": "Python 3",
   "language": "python",
   "name": "python3"
  },
  "language_info": {
   "codemirror_mode": {
    "name": "ipython",
    "version": 3
   },
   "file_extension": ".py",
   "mimetype": "text/x-python",
   "name": "python",
   "nbconvert_exporter": "python",
   "pygments_lexer": "ipython3",
   "version": "3.8.5"
  }
 },
 "nbformat": 4,
 "nbformat_minor": 4
}
