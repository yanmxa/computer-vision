{
 "cells": [
  {
   "cell_type": "code",
   "execution_count": 1,
   "metadata": {},
   "outputs": [],
   "source": [
    "%matplotlib inline\n",
    "import math\n",
    "import numpy as np\n",
    "import cv2 as cv\n",
    "import matplotlib.pyplot as plt"
   ]
  },
  {
   "cell_type": "code",
   "execution_count": 3,
   "metadata": {},
   "outputs": [
    {
     "data": {
      "image/png": "[encoded data removed]",
      "text/plain": [
       "<Figure size 432x288 with 1 Axes>"
      ]
     },
     "metadata": {
      "needs_background": "light"
     },
     "output_type": "display_data"
    }
   ],
   "source": [
    "# 设置基本参数\n",
    "w = 1000              # 窗口宽\n",
    "Height = int(1.3 * w) # 窗口高\n",
    "D = int(0.2 * w)\n",
    "o = (int(0.5 * w), int(0.5 * w))\n",
    "\n",
    "# 大圆参数\n",
    "A = (int(0.5 * w), int(0.5 * w - D))\n",
    "B = (int(0.5 * w - math.sqrt(3) / 2 * D), int(0.5*w + 0.5*D))\n",
    "C = (int(0.5 * w + math.sqrt(3) / 2 * D), int(0.5*w + 0.5*D))\n",
    "R1 = int(math.sqrt(3) * 0.4 * D)\n",
    "\n",
    "# 小圆参数，圆形同上，半径为\n",
    "R2 = int(math.sqrt(3) * 0.2 * D)\n",
    "\n",
    "# 扇形参数\n",
    "ang = 60\n",
    "\n",
    "# 生成一张黑色图像\n",
    "img = np.zeros((Height, w, 3), np.uint8)\n",
    "\n",
    "# 画大图\n",
    "cv.circle(img, A, R1, (0, 0, 255), -1)\n",
    "cv.circle(img, B, R1, (0, 255, 0), -1)\n",
    "cv.circle(img, C, R1, (255, 0, 0), -1)\n",
    "\n",
    "# 画小圆\n",
    "cv.circle(img, A, R2, (0, 0, 0), -1)\n",
    "cv.circle(img, B, R2, (0, 0, 0), -1)\n",
    "cv.circle(img, C, R2, (0, 0, 0), -1)\n",
    "\n",
    "# 画扇形\n",
    "cv.ellipse(img, A, (R1, R1), ang, 0, ang, (0,0,0), -1)\n",
    "cv.ellipse(img, B, (R1, R1), 360 - ang, 0, ang, (0,0,0), -1)\n",
    "cv.ellipse(img, C, (R1, R1), 360 - 2 * ang, ang, 0, (0,0,0), -1)\n",
    "\n",
    "\n",
    "# 写文字\n",
    "font = cv.FONT_HERSHEY_SIMPLEX\n",
    "cv.putText(img, 'OpenCV', (100, 1000), font, 7, (255, 255, 255), 20)\n",
    "\n",
    "# matplotlib显示\n",
    "imageRGB = cv.cvtColor(img, cv.COLOR_BGR2RGB)\n",
    "plt.imshow(imageRGB)\n",
    "plt.show()"
   ]
  },
  {
   "cell_type": "code",
   "execution_count": null,
   "metadata": {},
   "outputs": [],
   "source": []
  }
 ],
 "metadata": {
  "kernelspec": {
   "display_name": "Python 3",
   "language": "python",
   "name": "python3"
  },
  "language_info": {
   "codemirror_mode": {
    "name": "ipython",
    "version": 3
   },
   "file_extension": ".py",
   "mimetype": "text/x-python",
   "name": "python",
   "nbconvert_exporter": "python",
   "pygments_lexer": "ipython3",
   "version": "3.8.5"
  }
 },
 "nbformat": 4,
 "nbformat_minor": 4
}
