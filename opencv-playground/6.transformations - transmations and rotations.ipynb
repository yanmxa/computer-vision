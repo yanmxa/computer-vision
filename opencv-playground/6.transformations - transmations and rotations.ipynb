{
 "cells": [
  {
   "cell_type": "markdown",
   "metadata": {},
   "source": [
    "# Transformations\n",
    "## 1. Affine Transforms\n",
    "   - scaling\n",
    "   - rotation\n",
    "   - translation\n",
    "   - skewing\n",
    "## 2. Non-Affine\n",
    "   - non-affine or projective transform(alse called Homography)\n",
    "   - it does not perserve parallelism, length, and angle\n",
    "   - it does however preserve collinearity and incidence\n",
    "   \n",
    "https://zh.wikipedia.org/wiki/%E5%8F%98%E6%8D%A2%E7%9F%A9%E9%98%B5#%E7%BC%A9%E6%94%BE"
   ]
  },
  {
   "cell_type": "markdown",
   "metadata": {},
   "source": [
    "### Translations\n",
    "This an affine transform that simply shifts the position of an image.(left or right)\n",
    "\n",
    "We use cv2.wrapAffine to implement these transformations"
   ]
  },
  {
   "cell_type": "code",
   "execution_count": 12,
   "metadata": {},
   "outputs": [
    {
     "name": "stdout",
     "output_type": "stream",
     "text": [
      "582 880\n"
     ]
    }
   ],
   "source": [
    "import cv2 as cv\n",
    "import numpy as np\n",
    "\n",
    "image = cv.imread('./images/tree.jpeg')\n",
    "\n",
    "height, width = image.shape[:2]\n",
    "print(height, width)\n",
    "cv.imshow(\"original\" ,image)\n",
    "cv.waitKey()\n",
    "cv.destroyAllWindows()"
   ]
  },
  {
   "cell_type": "code",
   "execution_count": 11,
   "metadata": {},
   "outputs": [],
   "source": [
    "quarter_height, quarter_width = height/4, width/4\n",
    "\n",
    "# Our Translate\n",
    "#         | 1 0 Tx |\n",
    "#     T = | 0 1 Ty |\n",
    "\n",
    "# T is our translation matrix\n",
    "T = np.float32([[1, 0, quarter_height], [0, 1, quarter_width]])\n",
    "\n",
    "img_translation = cv.warpAffine(image, T, (width, height))\n",
    "cv.imshow(\"Tranlation\", img_translation)\n",
    "cv.waitKey()\n",
    "cv.destroyAllWindows()"
   ]
  },
  {
   "cell_type": "code",
   "execution_count": 13,
   "metadata": {},
   "outputs": [
    {
     "name": "stdout",
     "output_type": "stream",
     "text": [
      "[[  1.    0.  145.5]\n",
      " [  0.    1.  220. ]]\n"
     ]
    }
   ],
   "source": [
    "print(T)"
   ]
  },
  {
   "cell_type": "markdown",
   "metadata": {},
   "source": [
    "### Rotations\n",
    "\n",
    "cv2.getRotationMatrix2D(x, y, angle, scale)"
   ]
  },
  {
   "cell_type": "code",
   "execution_count": 18,
   "metadata": {},
   "outputs": [],
   "source": [
    "image = cv.imread('./images/tree.jpeg')\n",
    "height, width = image.shape[:2]\n",
    "\n",
    "rotation_matrix = cv.getRotationMatrix2D((width/2, height/2), 90, .5)\n",
    "\n",
    "rotated_image = cv.warpAffine(image, rotation_matrix, (width, height))\n",
    "\n",
    "cv.imshow('Rotated Image', rotated_image)\n",
    "cv.waitKey()\n",
    "cv.destroyAllWindows()"
   ]
  },
  {
   "cell_type": "markdown",
   "metadata": {},
   "source": [
    "### Notice all the black space surrounding the image\n",
    "\n",
    "We could now crop the image as we calculate it's new size.\n",
    "\n",
    "But here's another method for simple rotations that uses the cv2.transpose function"
   ]
  },
  {
   "cell_type": "code",
   "execution_count": 19,
   "metadata": {},
   "outputs": [],
   "source": [
    "img = cv.imread('./images/tree.jpeg')\n",
    "rotated_image = cv.transpose(img)\n",
    "\n",
    "cv.imshow(\"Rotated Image\", rotated_image)\n",
    "cv.waitKey()\n",
    "cv.destroyAllWindows()"
   ]
  },
  {
   "cell_type": "code",
   "execution_count": null,
   "metadata": {},
   "outputs": [],
   "source": [
    "flipped_h = cv.flip(image, 1)\n",
    "flipped_v = cv.flip(image, -1)\n",
    "cv.imshow(\"orginal\", image)\n",
    "cv.imshow(\"flipped : 1\", flipped_h)\n",
    "cv.imshow(\"flipped : -1\", flipped_v)\n",
    "cv.waitKey()\n",
    "cv.destroyAllWindows()"
   ]
  },
  {
   "cell_type": "code",
   "execution_count": null,
   "metadata": {},
   "outputs": [],
   "source": []
  }
 ],
 "metadata": {
  "kernelspec": {
   "display_name": "Python 3",
   "language": "python",
   "name": "python3"
  },
  "language_info": {
   "codemirror_mode": {
    "name": "ipython",
    "version": 3
   },
   "file_extension": ".py",
   "mimetype": "text/x-python",
   "name": "python",
   "nbconvert_exporter": "python",
   "pygments_lexer": "ipython3",
   "version": "3.8.5"
  }
 },
 "nbformat": 4,
 "nbformat_minor": 4
}
